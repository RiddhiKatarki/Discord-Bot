{
 "cells": [
  {
   "cell_type": "code",
   "execution_count": null,
   "id": "de9e2a6f",
   "metadata": {},
   "outputs": [],
   "source": [
    "import os\n",
    "import requests\n",
    "from flask import Flask, request, Response\n",
    "from discord_webhook import DiscordWebhook\n",
    "\n",
    "app = Flask(__name__)\n",
    "DISCORD_WEBHOOK_URL = os.environ['DISCORD_WEBHOOK_URL']\n",
    "\n",
    "@app.route('/notify', methods=['POST'])\n",
    "def notify():\n",
    "  logs = request.json['event']['data']['block']['logs']\n",
    "  if (len(logs) == 0):\n",
    "    print(\"Empty logs array received, skipping\")\n",
    "  else:\n",
    "    \n",
    "    for i in range(0, len(logs)):\n",
    "      topic1 = \"0x\" + logs[i]['topics'][1][26:]\n",
    "      topic2 = \"0x\" + logs[i]['topics'][2][26:]\n",
    "      amount = \"{:.3f}\".format(int(logs[i]['data'], 16) / float(1e18))\n",
    "\n",
    "      message = topic1 + ' sent ' + amount + ' sent to ' + topic2\n",
    "      webhook = DiscordWebhook(url=DISCORD_WEBHOOK_URL, content=message)\n",
    "      webhook.execute()\n",
    "\n",
    "  return Response(status=200)\n",
    "\n",
    "if __name__ == '__main__':\n",
    "  app.run(host='0.0.0.0', port=81)"
   ]
  }
 ],
 "metadata": {
  "kernelspec": {
   "display_name": "Python 3 (ipykernel)",
   "language": "python",
   "name": "python3"
  },
  "language_info": {
   "codemirror_mode": {
    "name": "ipython",
    "version": 3
   },
   "file_extension": ".py",
   "mimetype": "text/x-python",
   "name": "python",
   "nbconvert_exporter": "python",
   "pygments_lexer": "ipython3",
   "version": "3.9.13"
  }
 },
 "nbformat": 4,
 "nbformat_minor": 5
}
